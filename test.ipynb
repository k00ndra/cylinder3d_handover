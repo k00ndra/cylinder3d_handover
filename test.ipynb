{
 "cells": [
  {
   "cell_type": "code",
   "execution_count": 1,
   "id": "initial_id",
   "metadata": {
    "collapsed": true,
    "ExecuteTime": {
     "end_time": "2024-02-06T14:35:58.315878409Z",
     "start_time": "2024-02-06T14:35:55.094207993Z"
    }
   },
   "outputs": [],
   "source": [
    "import numpy as np\n",
    "from mayavi import mlab"
   ]
  },
  {
   "cell_type": "code",
   "outputs": [],
   "source": [
    "filepath = '/home/koondra/Downloads/Veh01_20230720_085445_000_small-segmentation.npz'\n",
    "file = np.load(filepath)"
   ],
   "metadata": {
    "collapsed": false,
    "ExecuteTime": {
     "end_time": "2024-02-06T14:48:57.275800484Z",
     "start_time": "2024-02-06T14:48:57.266932452Z"
    }
   },
   "id": "b6b6b197f845e711",
   "execution_count": 21
  },
  {
   "cell_type": "code",
   "outputs": [
    {
     "name": "stdout",
     "output_type": "stream",
     "text": [
      "(6444108, 5) (6444108,)\n"
     ]
    }
   ],
   "source": [
    "pc = file['data']\n",
    "labels = file['labels']\n",
    "print(pc.shape, labels.shape)"
   ],
   "metadata": {
    "collapsed": false,
    "ExecuteTime": {
     "end_time": "2024-02-06T14:48:59.300492555Z",
     "start_time": "2024-02-06T14:48:58.942359907Z"
    }
   },
   "id": "b4e079cd0e148fa6",
   "execution_count": 22
  },
  {
   "cell_type": "code",
   "outputs": [],
   "source": [
    "def visualize_points_with_feature(points:np.ndarray,feature:np.ndarray, vis_num_tresh = 500000):\n",
    "    if points.shape[0] > vis_num_tresh:\n",
    "       print('too many points to visualize')\n",
    "       return\n",
    "    if points.shape[0] != feature.shape[0]:\n",
    "       print(\"shapes of points and features not matching\")\n",
    "       return\n",
    "    figure = mlab.figure(1, bgcolor=(1, 1, 1), size=(640, 480))\n",
    "    nodes = mlab.points3d(points[:,0], points[:,1], points[:,2], feature, scale_factor=0.05, scale_mode='none',colormap='jet')\n",
    "    colorbar = mlab.colorbar()\n",
    "    colorbar.label_text_property.color = (0, 0, 0) \n",
    "    mlab.show()\n",
    "    "
   ],
   "metadata": {
    "collapsed": false,
    "ExecuteTime": {
     "end_time": "2024-02-06T14:51:13.998918073Z",
     "start_time": "2024-02-06T14:51:13.983493080Z"
    }
   },
   "id": "7f11a845e209a760",
   "execution_count": 26
  },
  {
   "cell_type": "code",
   "outputs": [
    {
     "name": "stdout",
     "output_type": "stream",
     "text": [
      "(63038, 5) 63038\n"
     ]
    }
   ],
   "source": [
    "pts = pc[labels, :]\n",
    "print(pts.shape, np.count_nonzero(labels))\n",
    "visualize_points_with_feature(pts, pts[:, 2])"
   ],
   "metadata": {
    "collapsed": false,
    "ExecuteTime": {
     "end_time": "2024-02-06T14:55:06.739949032Z",
     "start_time": "2024-02-06T14:55:02.121809823Z"
    }
   },
   "id": "75f5d3e99baa730b",
   "execution_count": 34
  }
 ],
 "metadata": {
  "kernelspec": {
   "display_name": "Python 3",
   "language": "python",
   "name": "python3"
  },
  "language_info": {
   "codemirror_mode": {
    "name": "ipython",
    "version": 2
   },
   "file_extension": ".py",
   "mimetype": "text/x-python",
   "name": "python",
   "nbconvert_exporter": "python",
   "pygments_lexer": "ipython2",
   "version": "2.7.6"
  }
 },
 "nbformat": 4,
 "nbformat_minor": 5
}
