{
 "cells": [
  {
   "cell_type": "code",
   "execution_count": 2,
   "id": "initial_id",
   "metadata": {
    "collapsed": true,
    "ExecuteTime": {
     "end_time": "2023-11-28T21:24:46.321439170Z",
     "start_time": "2023-11-28T21:24:41.446273631Z"
    }
   },
   "outputs": [
    {
     "name": "stderr",
     "output_type": "stream",
     "text": [
      "/home/koondra/.local/lib/python3.10/site-packages/pyntcloud/utils/numba.py:5: NumbaDeprecationWarning: \u001B[1mThe 'nopython' keyword argument was not supplied to the 'numba.jit' decorator. The implicit default value for this argument is currently False, but it will be changed to True in Numba 0.59.0. See https://numba.readthedocs.io/en/stable/reference/deprecation.html#deprecation-of-object-mode-fall-back-behaviour-when-using-jit for details.\u001B[0m\n",
      "  def groupby_count(xyz, indices, out):\n",
      "/home/koondra/.local/lib/python3.10/site-packages/pyntcloud/utils/numba.py:12: NumbaDeprecationWarning: \u001B[1mThe 'nopython' keyword argument was not supplied to the 'numba.jit' decorator. The implicit default value for this argument is currently False, but it will be changed to True in Numba 0.59.0. See https://numba.readthedocs.io/en/stable/reference/deprecation.html#deprecation-of-object-mode-fall-back-behaviour-when-using-jit for details.\u001B[0m\n",
      "  def groupby_sum(xyz, indices, N, out):\n",
      "/home/koondra/.local/lib/python3.10/site-packages/pyntcloud/utils/numba.py:19: NumbaDeprecationWarning: \u001B[1mThe 'nopython' keyword argument was not supplied to the 'numba.jit' decorator. The implicit default value for this argument is currently False, but it will be changed to True in Numba 0.59.0. See https://numba.readthedocs.io/en/stable/reference/deprecation.html#deprecation-of-object-mode-fall-back-behaviour-when-using-jit for details.\u001B[0m\n",
      "  def groupby_max(xyz, indices, N, out):\n"
     ]
    }
   ],
   "source": [
    "import os\n",
    "\n",
    "import numpy as np\n",
    "from mayavi import mlab\n",
    "from pyntcloud import PyntCloud\n",
    "import re"
   ]
  },
  {
   "cell_type": "code",
   "execution_count": 3,
   "outputs": [],
   "source": [
    "def visualize_points(points:np.ndarray, vis_num_tresh = 500000):\n",
    "\n",
    "    if points.shape[0] > vis_num_tresh:\n",
    "        print('too many points to visualize')\n",
    "        return\n",
    "\n",
    "    figure = mlab.figure(1, bgcolor=(1, 1, 1), size=(640, 480))\n",
    "    nodes = mlab.points3d(points[:,0], points[:,1], points[:,2], points[:,3], scale_factor=0.05, scale_mode='none',colormap='jet')\n",
    "    colorbar = mlab.colorbar()\n",
    "    colorbar.label_text_property.color = (0, 0, 0)  \n",
    "    mlab.show()\n",
    "    \n",
    "def visualize_points_with_feature(points:np.ndarray,feature:np.ndarray, vis_num_tresh = 500000):\n",
    "    \n",
    "\n",
    "    if points.shape[0] > vis_num_tresh:\n",
    "        print('too many points to visualize')\n",
    "        return\n",
    "    \n",
    "    if points.shape[0] != feature.shape[0]:\n",
    "        print(\"shapes of points and features not matching\")\n",
    "        return\n",
    "\n",
    "    figure = mlab.figure(1, bgcolor=(1, 1, 1), size=(640, 480))\n",
    "    nodes = mlab.points3d(points[:,0], points[:,1], points[:,2], feature, scale_factor=0.05, scale_mode='none',colormap='jet')\n",
    "    colorbar = mlab.colorbar()\n",
    "    colorbar.label_text_property.color = (0, 0, 0)  \n",
    "    mlab.show()\n",
    "    \n",
    "def load_pcd_to_numpy(pcd_filename:str):\n",
    "    pcd_raw = PyntCloud.from_file(pcd_filename)\n",
    "    pcd_numpy = pcd_raw.points.to_numpy()\n",
    "    return pcd_numpy"
   ],
   "metadata": {
    "collapsed": false,
    "ExecuteTime": {
     "end_time": "2023-11-28T21:24:46.333422899Z",
     "start_time": "2023-11-28T21:24:46.329724681Z"
    }
   },
   "id": "6f21bf360b0ea893"
  },
  {
   "cell_type": "code",
   "execution_count": 62,
   "outputs": [
    {
     "name": "stdout",
     "output_type": "stream",
     "text": [
      "(55000, 6)\n"
     ]
    }
   ],
   "source": [
    "file = '/home/koondra/sshfs_test/cylinder_test/test_55/sample_5.npz'\n",
    "\n",
    "pc = np.load(file)['data']\n",
    "print(pc.shape)\n",
    "\n",
    "visualize_points_with_feature(pc, pc[:,-1])"
   ],
   "metadata": {
    "collapsed": false,
    "ExecuteTime": {
     "end_time": "2023-11-28T15:27:41.832150814Z",
     "start_time": "2023-11-28T15:27:30.761892741Z"
    }
   },
   "id": "930b1eb70088d791"
  },
  {
   "cell_type": "markdown",
   "source": [
    "mark the real files\n"
   ],
   "metadata": {
    "collapsed": false
   },
   "id": "dda5a70a3f949920"
  },
  {
   "cell_type": "code",
   "execution_count": 70,
   "outputs": [
    {
     "name": "stdout",
     "output_type": "stream",
     "text": [
      "868 868\n"
     ]
    }
   ],
   "source": [
    "\n",
    "sample_files = []\n",
    "corr_files = []\n",
    "\n",
    "annot_folder = '/home/koondra/temp_school/data/test_55/'\n",
    "src_folder = '/home/koondra/temp_school/data/2clss_55rect_55kpts_5rect/pcd_adjusted'\n",
    "target_folder = '/home/koondra/temp_school/data/test_55_merged/'\n",
    "target_labels = '/home/koondra/temp_school/data/test_55_merged_labels/'\n",
    "\n",
    "for filename in os.listdir(annot_folder):\n",
    "    if filename.endswith('.npz') and filename.startswith('sample'):\n",
    "        sample_files.append(os.path.join(annot_folder, filename))\n",
    "        \n",
    "for filename in os.listdir(src_folder):\n",
    "    if filename.endswith('.pcd'):\n",
    "        corr_files.append(os.path.join(src_folder, filename))\n",
    "        \n",
    "print(len(corr_files), len(sample_files))"
   ],
   "metadata": {
    "collapsed": false,
    "ExecuteTime": {
     "end_time": "2023-11-28T15:34:13.620930064Z",
     "start_time": "2023-11-28T15:34:13.594548661Z"
    }
   },
   "id": "b1355b4bef495cc"
  },
  {
   "cell_type": "code",
   "execution_count": 72,
   "outputs": [
    {
     "name": "stderr",
     "output_type": "stream",
     "text": [
      " 24%|██▎       | 205/868 [00:05<00:18, 35.01it/s]\n",
      " 29%|██▉       | 256/868 [00:04<00:18, 32.39it/s]"
     ]
    },
    {
     "name": "stdout",
     "output_type": "stream",
     "text": [
      "Cannot load file containing pickled data when allow_pickle=False\n"
     ]
    },
    {
     "name": "stderr",
     "output_type": "stream",
     "text": [
      "100%|█████████▉| 867/868 [00:22<00:00, 37.85it/s]\n"
     ]
    }
   ],
   "source": [
    "assert len(corr_files) == len(sample_files)\n",
    "from tqdm import tqdm\n",
    "\n",
    "merged_paths = []\n",
    "\n",
    "pbar = tqdm(total=len(sample_files))\n",
    "\n",
    "for i in range(len(sample_files)):\n",
    "    try:\n",
    "        sample_pc = np.load(sample_files[i])['data']\n",
    "        sample_labels = sample_pc[:, -1].reshape(-1, 1)\n",
    "    except Exception as e:\n",
    "        print(e)\n",
    "        continue\n",
    "    orig_pc = load_pcd_to_numpy(corr_files[i])\n",
    "    \n",
    "    merged_sample_pc = np.concatenate([orig_pc, sample_labels], axis=1)\n",
    "    \n",
    "    base_name = os.path.basename(corr_files[i])\n",
    "    sample_name = base_name[:-4] + '.npz'\n",
    "    sample_path = os.path.join(target_folder, sample_name)\n",
    "    merged_paths.append(sample_path)\n",
    "\n",
    "    label_sample_path = os.path.join(target_labels, sample_name)\n",
    "    np.savez(label_sample_path,  data = sample_labels.reshape(-1))\n",
    "    \n",
    "    np.savez(sample_path, data = merged_sample_pc)\n",
    "    pbar.update(1)\n",
    "    \n",
    "pbar.close()\n"
   ],
   "metadata": {
    "collapsed": false,
    "ExecuteTime": {
     "end_time": "2023-11-28T15:34:44.031287381Z",
     "start_time": "2023-11-28T15:34:21.068505211Z"
    }
   },
   "id": "b8dc88b370782100"
  },
  {
   "cell_type": "code",
   "execution_count": 68,
   "outputs": [],
   "source": [
    "\n",
    "import random\n",
    "for i in range(10):\n",
    "    \n",
    "    idx = random.randint(0, len(merged_paths)-1)\n",
    "    path = sample_files[idx]\n",
    "    pc = np.load(path)['data']\n",
    "    \n",
    "    visualize_points_with_feature(pc, pc[:, -1] - pc[:, -2])"
   ],
   "metadata": {
    "collapsed": false,
    "ExecuteTime": {
     "end_time": "2023-11-28T15:31:44.240746049Z",
     "start_time": "2023-11-28T15:30:25.390473773Z"
    }
   },
   "id": "40098dd782c9feb"
  },
  {
   "cell_type": "code",
   "execution_count": 14,
   "outputs": [
    {
     "name": "stdout",
     "output_type": "stream",
     "text": [
      "[[ 4.11883736e+00 -1.44940829e+00  3.74899179e-01  1.22000000e+02\n",
      "   1.00000000e+00]\n",
      " [ 4.11883736e+00 -1.44940829e+00  3.74899179e-01  1.22000000e+02\n",
      "   1.00000000e+00]\n",
      " [ 4.12217999e+00 -1.45096171e+00  3.73346090e-01  1.24000000e+02\n",
      "   3.00000000e+00]\n",
      " ...\n",
      " [ 1.91648793e+02  1.95411934e+02  3.67153019e-01  2.54000000e+02\n",
      "   1.20000000e+03]\n",
      " [ 1.91642697e+02  1.95431153e+02  6.45130873e-01  2.54000000e+02\n",
      "   1.20000000e+03]\n",
      " [ 1.91648793e+02  1.95411934e+02  3.67153019e-01  2.54000000e+02\n",
      "   1.20000000e+03]]\n"
     ]
    }
   ],
   "source": [
    "pc = np.load('/home/koondra/Downloads/segmentation(1).npy')\n",
    "print(pc)"
   ],
   "metadata": {
    "collapsed": false,
    "ExecuteTime": {
     "end_time": "2023-11-28T21:24:55.047482143Z",
     "start_time": "2023-11-28T21:24:55.002719569Z"
    }
   },
   "id": "e631cb4cf3957fd2"
  },
  {
   "cell_type": "code",
   "execution_count": 17,
   "outputs": [],
   "source": [
    "visualize_points(pc)"
   ],
   "metadata": {
    "collapsed": false,
    "ExecuteTime": {
     "end_time": "2023-11-28T21:27:48.685670981Z",
     "start_time": "2023-11-28T21:25:22.177185682Z"
    }
   },
   "id": "7acb985e79e10a5e"
  }
 ],
 "metadata": {
  "kernelspec": {
   "display_name": "Python 3",
   "language": "python",
   "name": "python3"
  },
  "language_info": {
   "codemirror_mode": {
    "name": "ipython",
    "version": 2
   },
   "file_extension": ".py",
   "mimetype": "text/x-python",
   "name": "python",
   "nbconvert_exporter": "python",
   "pygments_lexer": "ipython2",
   "version": "2.7.6"
  }
 },
 "nbformat": 4,
 "nbformat_minor": 5
}
