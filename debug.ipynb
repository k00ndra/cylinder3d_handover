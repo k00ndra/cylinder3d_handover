{
 "cells": [
  {
   "cell_type": "code",
   "execution_count": 2,
   "id": "initial_id",
   "metadata": {
    "collapsed": true,
    "ExecuteTime": {
     "end_time": "2024-02-13T12:01:58.435197204Z",
     "start_time": "2024-02-13T12:01:58.307256153Z"
    }
   },
   "outputs": [],
   "source": [
    "import numpy as np"
   ]
  },
  {
   "cell_type": "code",
   "outputs": [],
   "source": [
    "file = np.load('/home/koondra/Downloads/Veh01_20230720_085445_000_small.npz', allow_pickle=True)"
   ],
   "metadata": {
    "collapsed": false,
    "ExecuteTime": {
     "end_time": "2024-02-13T12:02:47.512796832Z",
     "start_time": "2024-02-13T12:02:47.507465839Z"
    }
   },
   "id": "b797c4514ea4f18b",
   "execution_count": 4
  },
  {
   "cell_type": "code",
   "outputs": [
    {
     "name": "stdout",
     "output_type": "stream",
     "text": [
      "['odom_list', 'scan_list']\n",
      "[('t', '<f8'), ('v', '<f8'), ('yaw_rate', '<f8'), ('transformation', '<f8', (4, 4))] (101,)\n",
      "[('x', '<f4', (2,)), ('pulse_width', '<f4'), ('layer_id', '<i4'), ('z', '<f4'), ('i', '<f4')] (101,)\n"
     ]
    }
   ],
   "source": [
    "print(file.files)\n",
    "print(file['odom_list'].dtype, file['odom_list'].shape)\n",
    "print(file['scan_list'][0].dtype, file['scan_list'].shape)"
   ],
   "metadata": {
    "collapsed": false,
    "ExecuteTime": {
     "end_time": "2024-02-13T12:06:00.930322924Z",
     "start_time": "2024-02-13T12:05:49.595580008Z"
    }
   },
   "id": "eeacfe24da8bc0c6",
   "execution_count": 8
  }
 ],
 "metadata": {
  "kernelspec": {
   "display_name": "Python 3",
   "language": "python",
   "name": "python3"
  },
  "language_info": {
   "codemirror_mode": {
    "name": "ipython",
    "version": 2
   },
   "file_extension": ".py",
   "mimetype": "text/x-python",
   "name": "python",
   "nbconvert_exporter": "python",
   "pygments_lexer": "ipython2",
   "version": "2.7.6"
  }
 },
 "nbformat": 4,
 "nbformat_minor": 5
}
